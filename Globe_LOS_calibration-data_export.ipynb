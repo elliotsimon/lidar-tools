{
 "cells": [
  {
   "cell_type": "code",
   "execution_count": 1,
   "metadata": {},
   "outputs": [],
   "source": [
    "__author__ = 'Elliot I. Simon'\n",
    "__email__ = 'ellsim@dtu.dk'\n",
    "__version__ = 'April 08, 2021'"
   ]
  },
  {
   "cell_type": "code",
   "execution_count": 2,
   "metadata": {},
   "outputs": [],
   "source": [
    "import numpy as np\n",
    "import pandas as pd\n",
    "import matplotlib.pyplot as plt\n",
    "import datetime\n",
    "import os\n",
    "import glob\n",
    "import statsmodels.api as sm"
   ]
  },
  {
   "cell_type": "code",
   "execution_count": 3,
   "metadata": {},
   "outputs": [],
   "source": [
    "%matplotlib inline\n",
    "#%matplotlib notebook"
   ]
  },
  {
   "cell_type": "code",
   "execution_count": 4,
   "metadata": {},
   "outputs": [],
   "source": [
    "pd.set_option('display.float_format', lambda x: '%.6f' % x)\n",
    "plt.rcParams['figure.figsize'] = [10, 8]"
   ]
  },
  {
   "cell_type": "markdown",
   "metadata": {},
   "source": [
    "# Load/prepare WindScanner data"
   ]
  },
  {
   "cell_type": "code",
   "execution_count": null,
   "metadata": {},
   "outputs": [],
   "source": [
    "# Get list of filenames of already merged wind_data\n",
    "filenames=[]\n",
    "path = r\"R:\\Globe\\Lidar_data\\Onshore_testing\\LOS_calibration\\Levante\\*.txt\"\n",
    "for file in glob.glob(path):\n",
    "    filenames.append(file)"
   ]
  },
  {
   "cell_type": "code",
   "execution_count": null,
   "metadata": {},
   "outputs": [],
   "source": [
    "# Single file\n",
    "file = \"R:\\\\Globe\\\\Lidar_data\\\\Onshore_testing\\\\LOS_calibration\\\\Sterenn\\\\batch1_merged.txt\"\n",
    "filenames = [file]"
   ]
  },
  {
   "cell_type": "code",
   "execution_count": null,
   "metadata": {},
   "outputs": [],
   "source": [
    "filenames"
   ]
  },
  {
   "cell_type": "code",
   "execution_count": null,
   "metadata": {},
   "outputs": [],
   "source": [
    "%%time\n",
    "# Read all files\n",
    "df_file = (pd.read_csv(file, sep=';', header=None) for file in filenames)\n",
    "df = pd.concat(df_file, ignore_index=True, axis=0)"
   ]
  },
  {
   "cell_type": "code",
   "execution_count": null,
   "metadata": {
    "scrolled": true
   },
   "outputs": [],
   "source": [
    "df.shape"
   ]
  },
  {
   "cell_type": "code",
   "execution_count": null,
   "metadata": {
    "scrolled": true
   },
   "outputs": [],
   "source": [
    "df.head()"
   ]
  },
  {
   "cell_type": "code",
   "execution_count": null,
   "metadata": {},
   "outputs": [],
   "source": [
    "# Rename azim and elevation columns\n",
    "df = df.rename(columns={5: 'dt_stop', 6: 'azim', 7: 'elev'})"
   ]
  },
  {
   "cell_type": "code",
   "execution_count": null,
   "metadata": {},
   "outputs": [],
   "source": [
    "# Function to convert labview to datetime stamp\n",
    "# Time is stamped at beginning of 10min period in UTC format!!!\n",
    "def convtime(labviewtime):\n",
    "    unixtime = labviewtime - 2082844800\n",
    "    timestamp = datetime.datetime.utcfromtimestamp(unixtime) \n",
    "    # - pd.Timedelta(minutes=10)\n",
    "    # + pd.Timedelta(hours=1)\n",
    "    return timestamp"
   ]
  },
  {
   "cell_type": "code",
   "execution_count": 5,
   "metadata": {},
   "outputs": [],
   "source": [
    "# Function for going between range gate distance and column number\n",
    "def get_col_num(range_gate):\n",
    "    colnum = int((((range_gate - 200)/15)*4)+8)\n",
    "    return colnum"
   ]
  },
  {
   "cell_type": "code",
   "execution_count": null,
   "metadata": {},
   "outputs": [],
   "source": [
    "# Apply time conversion to dt_stop value (end of acquisition)\n",
    "time_index = df['dt_stop'].apply(lambda x: convtime(x))\n",
    "df = df.set_index(time_index)"
   ]
  },
  {
   "cell_type": "code",
   "execution_count": null,
   "metadata": {},
   "outputs": [],
   "source": [
    "df.head()"
   ]
  },
  {
   "cell_type": "code",
   "execution_count": null,
   "metadata": {},
   "outputs": [],
   "source": [
    "df.memory_usage()"
   ]
  },
  {
   "cell_type": "code",
   "execution_count": null,
   "metadata": {},
   "outputs": [],
   "source": [
    "# Interpolate to 1-s stamp\n",
    "df = df.resample('1S').mean().interpolate().dropna()"
   ]
  },
  {
   "cell_type": "code",
   "execution_count": null,
   "metadata": {},
   "outputs": [],
   "source": [
    "# Save DataFame to disk\n",
    "df.to_hdf('R:\\\\Globe\\\\Lidar_data\\\\Onshore_testing\\\\LOS_calibration\\\\Levante\\\\processed\\\\levante_los_calib_batch2_1s.hdf', \n",
    "          'df', complib='blosc')"
   ]
  },
  {
   "cell_type": "code",
   "execution_count": null,
   "metadata": {},
   "outputs": [],
   "source": [
    "# Plot time index to see gaps in measurement data\n",
    "plt.plot(df.index)"
   ]
  },
  {
   "cell_type": "code",
   "execution_count": null,
   "metadata": {},
   "outputs": [],
   "source": [
    "# TimeDelta between first and last measurement\n",
    "df.last_valid_index() - df.first_valid_index()"
   ]
  },
  {
   "cell_type": "code",
   "execution_count": null,
   "metadata": {},
   "outputs": [],
   "source": []
  },
  {
   "cell_type": "code",
   "execution_count": null,
   "metadata": {},
   "outputs": [],
   "source": [
    "range_gates"
   ]
  },
  {
   "cell_type": "code",
   "execution_count": null,
   "metadata": {},
   "outputs": [],
   "source": [
    "# Plot and make sure azimuth + elevation don't change (for LOS)\n",
    "df['azim'].plot()\n",
    "df['elev'].plot()"
   ]
  },
  {
   "cell_type": "markdown",
   "metadata": {},
   "source": [
    "# Load saved data"
   ]
  },
  {
   "cell_type": "code",
   "execution_count": null,
   "metadata": {},
   "outputs": [],
   "source": [
    "df_s = pd.read_hdf('R:\\\\Globe\\\\Lidar_data\\\\Onshore_testing\\\\LOS_calibration\\\\Sterenn\\\\processed\\\\sterenn_los_calib_batch2_1s.hdf', \n",
    "          'df')"
   ]
  },
  {
   "cell_type": "code",
   "execution_count": null,
   "metadata": {},
   "outputs": [],
   "source": [
    "df_l = pd.read_hdf('R:\\\\Globe\\\\Lidar_data\\\\Onshore_testing\\\\LOS_calibration\\\\Levante\\\\processed\\\\levante_los_calib_batch2_1s.hdf', \n",
    "          'df')"
   ]
  },
  {
   "cell_type": "code",
   "execution_count": null,
   "metadata": {},
   "outputs": [],
   "source": [
    "# Get list of range gates from column values\n",
    "range_gates_s = df_s.iloc[0:1,8::4].values[0].tolist()\n",
    "range_gates_l = df_l.iloc[0:1,8::4].values[0].tolist()"
   ]
  },
  {
   "cell_type": "code",
   "execution_count": null,
   "metadata": {},
   "outputs": [],
   "source": [
    "range_gates_s"
   ]
  },
  {
   "cell_type": "code",
   "execution_count": null,
   "metadata": {},
   "outputs": [],
   "source": []
  },
  {
   "cell_type": "markdown",
   "metadata": {},
   "source": [
    "# Check Measurements"
   ]
  },
  {
   "cell_type": "code",
   "execution_count": null,
   "metadata": {},
   "outputs": [],
   "source": [
    "# Set column for respective scanner\n",
    "sterenn_rg_col = get_col_num(2000)\n",
    "levante_rg_col = get_col_num(2000)"
   ]
  },
  {
   "cell_type": "code",
   "execution_count": null,
   "metadata": {
    "scrolled": false
   },
   "outputs": [],
   "source": [
    "# First look at RadSpeeds\n",
    "f,axarr = plt.subplots(2,1, sharex=True)\n",
    "plt.sca(axarr[0])\n",
    "df_l.iloc[:,levante_rg_col+1].plot()\n",
    "plt.title('Unfiltered Radial Speed')\n",
    "plt.ylabel('m/s');\n",
    "plt.sca(axarr[1])\n",
    "df_s.iloc[:,sterenn_rg_col+1].plot()"
   ]
  },
  {
   "cell_type": "markdown",
   "metadata": {},
   "source": [
    "## Filter CNR"
   ]
  },
  {
   "cell_type": "code",
   "execution_count": null,
   "metadata": {},
   "outputs": [],
   "source": [
    "# Loops through list of range gates. Applies CNR mask to set radspeed to NaN if CNR < ul or CNR > ll. \n",
    "# Also applies RS mask in similar fashion\n",
    "cnr_ll = -27\n",
    "cnr_ul = 0\n",
    "rs_ll = -17\n",
    "rs_ul = 17\n",
    "\n",
    "for dist in range_gates_s:\n",
    "    rg = get_col_num(dist)\n",
    "    mask = df_s[rg+2] < cnr_ll\n",
    "    df_s.loc[mask, rg+1] = np.nan\n",
    "\n",
    "    mask = df_s[rg+2] > cnr_ul\n",
    "    df_s.loc[mask, rg+1] = np.nan\n",
    "    \n",
    "    mask = df_s[rg+1] < rs_ll\n",
    "    df_s.loc[mask, rg+1] = np.nan\n",
    "    \n",
    "    mask = df_s[rg+1] > rs_ul\n",
    "    df_s.loc[mask, rg+1] = np.nan"
   ]
  },
  {
   "cell_type": "code",
   "execution_count": null,
   "metadata": {},
   "outputs": [],
   "source": [
    "# Loops through list of range gates. Applies CNR mask to set radspeed to NaN if CNR < ul or CNR > ll. \n",
    "# Also applies RS mask in similar fashion\n",
    "cnr_ll = -27\n",
    "cnr_ul = 0\n",
    "rs_ll = -17\n",
    "rs_ul = 17\n",
    "\n",
    "for dist in range_gates_l:\n",
    "    rg = get_col_num(dist)\n",
    "    mask = df_l[rg+2] < cnr_ll\n",
    "    df_l.loc[mask, rg+1] = np.nan\n",
    "\n",
    "    mask = df_l[rg+2] > cnr_ul\n",
    "    df_l.loc[mask, rg+1] = np.nan\n",
    "    \n",
    "    mask = df_l[rg+1] < rs_ll\n",
    "    df_l.loc[mask, rg+1] = np.nan\n",
    "    \n",
    "    mask = df_l[rg+1] > rs_ul\n",
    "    df_l.loc[mask, rg+1] = np.nan"
   ]
  },
  {
   "cell_type": "code",
   "execution_count": null,
   "metadata": {},
   "outputs": [],
   "source": [
    "f,axarr = plt.subplots(2,1, sharex=True)\n",
    "plt.sca(axarr[0])\n",
    "df_l.iloc[:,levante_rg_col+1].plot()\n",
    "plt.title('Filtered Radial Speed')\n",
    "plt.ylabel('m/s');\n",
    "plt.sca(axarr[1])\n",
    "df_s.iloc[:,sterenn_rg_col+1].plot()"
   ]
  },
  {
   "cell_type": "code",
   "execution_count": null,
   "metadata": {},
   "outputs": [],
   "source": [
    "df_join = pd.concat([df_l.iloc[:,levante_rg_col+1], df_s.iloc[:,sterenn_rg_col+1]], axis=1, join='inner')\n",
    "df_join.columns = ['levante', 'sterenn']\n",
    "df_join.dropna(inplace=True)"
   ]
  },
  {
   "cell_type": "code",
   "execution_count": null,
   "metadata": {},
   "outputs": [],
   "source": [
    "df_join['diff'] = df_join['levante'] - df_join['sterenn']"
   ]
  },
  {
   "cell_type": "code",
   "execution_count": null,
   "metadata": {},
   "outputs": [],
   "source": [
    "df_join.shape"
   ]
  },
  {
   "cell_type": "code",
   "execution_count": null,
   "metadata": {},
   "outputs": [],
   "source": [
    "df_join.head()"
   ]
  },
  {
   "cell_type": "code",
   "execution_count": null,
   "metadata": {},
   "outputs": [],
   "source": [
    "df_join.to_hdf('R:\\\\Globe\\\\Lidar_data\\\\Onshore_testing\\\\LOS_calibration\\\\joined\\\\joined_2000m_batch2.hdf', \n",
    "          'df', complib='blosc')"
   ]
  },
  {
   "cell_type": "markdown",
   "metadata": {},
   "source": [
    "# Export data for Mike"
   ]
  },
  {
   "cell_type": "code",
   "execution_count": 34,
   "metadata": {},
   "outputs": [],
   "source": [
    "df_join = pd.read_hdf('R:\\\\Globe\\\\Lidar_data\\\\Onshore_testing\\\\LOS_calibration\\\\joined\\\\joined_2000m_batch1.hdf', \n",
    "          'df')\n",
    "df_join2 = pd.read_hdf('R:\\\\Globe\\\\Lidar_data\\\\Onshore_testing\\\\LOS_calibration\\\\joined\\\\joined_2000m_batch2.hdf', \n",
    "          'df')"
   ]
  },
  {
   "cell_type": "code",
   "execution_count": 35,
   "metadata": {},
   "outputs": [],
   "source": [
    "df = pd.concat([df_join, df_join2], axis=0)"
   ]
  },
  {
   "cell_type": "code",
   "execution_count": 36,
   "metadata": {},
   "outputs": [
    {
     "data": {
      "text/html": [
       "<div>\n",
       "<style scoped>\n",
       "    .dataframe tbody tr th:only-of-type {\n",
       "        vertical-align: middle;\n",
       "    }\n",
       "\n",
       "    .dataframe tbody tr th {\n",
       "        vertical-align: top;\n",
       "    }\n",
       "\n",
       "    .dataframe thead th {\n",
       "        text-align: right;\n",
       "    }\n",
       "</style>\n",
       "<table border=\"1\" class=\"dataframe\">\n",
       "  <thead>\n",
       "    <tr style=\"text-align: right;\">\n",
       "      <th></th>\n",
       "      <th>levante</th>\n",
       "      <th>sterenn</th>\n",
       "      <th>diff</th>\n",
       "    </tr>\n",
       "    <tr>\n",
       "      <th>dt_stop</th>\n",
       "      <th></th>\n",
       "      <th></th>\n",
       "      <th></th>\n",
       "    </tr>\n",
       "  </thead>\n",
       "  <tbody>\n",
       "    <tr>\n",
       "      <th>2021-03-12 15:05:33</th>\n",
       "      <td>-2.729000</td>\n",
       "      <td>-2.570000</td>\n",
       "      <td>-0.159000</td>\n",
       "    </tr>\n",
       "    <tr>\n",
       "      <th>2021-03-12 15:05:34</th>\n",
       "      <td>-2.947000</td>\n",
       "      <td>-2.939000</td>\n",
       "      <td>-0.008000</td>\n",
       "    </tr>\n",
       "    <tr>\n",
       "      <th>2021-03-12 15:05:35</th>\n",
       "      <td>-2.948000</td>\n",
       "      <td>-3.522000</td>\n",
       "      <td>0.574000</td>\n",
       "    </tr>\n",
       "    <tr>\n",
       "      <th>2021-03-12 15:05:36</th>\n",
       "      <td>-3.323000</td>\n",
       "      <td>-3.780000</td>\n",
       "      <td>0.457000</td>\n",
       "    </tr>\n",
       "    <tr>\n",
       "      <th>2021-03-12 15:05:37</th>\n",
       "      <td>-4.231000</td>\n",
       "      <td>-4.089000</td>\n",
       "      <td>-0.142000</td>\n",
       "    </tr>\n",
       "  </tbody>\n",
       "</table>\n",
       "</div>"
      ],
      "text/plain": [
       "                      levante   sterenn      diff\n",
       "dt_stop                                          \n",
       "2021-03-12 15:05:33 -2.729000 -2.570000 -0.159000\n",
       "2021-03-12 15:05:34 -2.947000 -2.939000 -0.008000\n",
       "2021-03-12 15:05:35 -2.948000 -3.522000  0.574000\n",
       "2021-03-12 15:05:36 -3.323000 -3.780000  0.457000\n",
       "2021-03-12 15:05:37 -4.231000 -4.089000 -0.142000"
      ]
     },
     "execution_count": 36,
     "metadata": {},
     "output_type": "execute_result"
    }
   ],
   "source": [
    "df.head()"
   ]
  },
  {
   "cell_type": "code",
   "execution_count": 37,
   "metadata": {},
   "outputs": [],
   "source": [
    "# Filter diff > 3m/s\n",
    "df = df[np.abs(df['diff']) < 3].dropna()"
   ]
  },
  {
   "cell_type": "code",
   "execution_count": 38,
   "metadata": {},
   "outputs": [],
   "source": [
    "# Filter only negative RS\n",
    "df = df[df['levante'] < 0].dropna()"
   ]
  },
  {
   "cell_type": "code",
   "execution_count": 39,
   "metadata": {},
   "outputs": [
    {
     "data": {
      "text/plain": [
       "(818758, 3)"
      ]
     },
     "execution_count": 39,
     "metadata": {},
     "output_type": "execute_result"
    }
   ],
   "source": [
    "df.shape"
   ]
  },
  {
   "cell_type": "code",
   "execution_count": 40,
   "metadata": {},
   "outputs": [],
   "source": [
    "df_30s = df.resample('30S').mean().dropna()\n",
    "df_30s.to_csv('R:\\\\Globe\\\\Lidar_data\\\\Onshore_testing\\\\LOS_calibration\\\\joined\\\\Mike\\\\globe_loscal_2000m_30s.csv',\n",
    "             sep=';', decimal='.', header=True)"
   ]
  },
  {
   "cell_type": "code",
   "execution_count": 41,
   "metadata": {},
   "outputs": [],
   "source": [
    "df_1min = df.resample('1Min').mean().dropna()\n",
    "df_1min.to_csv('R:\\\\Globe\\\\Lidar_data\\\\Onshore_testing\\\\LOS_calibration\\\\joined\\\\Mike\\\\globe_loscal_2000m_1min.csv',\n",
    "             sep=';', decimal='.', header=True)"
   ]
  },
  {
   "cell_type": "code",
   "execution_count": 42,
   "metadata": {},
   "outputs": [],
   "source": [
    "df_10min = df.resample('10Min').mean().dropna()\n",
    "df_10min.to_csv('R:\\\\Globe\\\\Lidar_data\\\\Onshore_testing\\\\LOS_calibration\\\\joined\\\\Mike\\\\globe_loscal_2000m_10min.csv',\n",
    "             sep=';', decimal='.', header=True)"
   ]
  },
  {
   "cell_type": "code",
   "execution_count": null,
   "metadata": {},
   "outputs": [],
   "source": []
  },
  {
   "cell_type": "code",
   "execution_count": null,
   "metadata": {},
   "outputs": [],
   "source": []
  },
  {
   "cell_type": "code",
   "execution_count": null,
   "metadata": {},
   "outputs": [],
   "source": []
  }
 ],
 "metadata": {
  "kernelspec": {
   "display_name": "Python 3",
   "language": "python",
   "name": "python3"
  },
  "language_info": {
   "codemirror_mode": {
    "name": "ipython",
    "version": 3
   },
   "file_extension": ".py",
   "mimetype": "text/x-python",
   "name": "python",
   "nbconvert_exporter": "python",
   "pygments_lexer": "ipython3",
   "version": "3.8.3"
  },
  "varInspector": {
   "cols": {
    "lenName": 16,
    "lenType": 16,
    "lenVar": 40
   },
   "kernels_config": {
    "python": {
     "delete_cmd_postfix": "",
     "delete_cmd_prefix": "del ",
     "library": "var_list.py",
     "varRefreshCmd": "print(var_dic_list())"
    },
    "r": {
     "delete_cmd_postfix": ") ",
     "delete_cmd_prefix": "rm(",
     "library": "var_list.r",
     "varRefreshCmd": "cat(var_dic_list()) "
    }
   },
   "types_to_exclude": [
    "module",
    "function",
    "builtin_function_or_method",
    "instance",
    "_Feature"
   ],
   "window_display": false
  }
 },
 "nbformat": 4,
 "nbformat_minor": 2
}
