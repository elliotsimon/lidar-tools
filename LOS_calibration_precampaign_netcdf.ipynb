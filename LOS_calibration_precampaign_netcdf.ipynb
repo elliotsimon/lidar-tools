{
 "cells": [
  {
   "cell_type": "code",
   "execution_count": 2,
   "metadata": {},
   "outputs": [],
   "source": [
    "__author__ = 'Elliot I. Simon'\n",
    "__email__ = 'ellsim@dtu.dk'\n",
    "__version__ = 'July 05, 2021'"
   ]
  },
  {
   "cell_type": "code",
   "execution_count": 3,
   "metadata": {},
   "outputs": [],
   "source": [
    "import numpy as np\n",
    "import pandas as pd\n",
    "import matplotlib.pyplot as plt\n",
    "import datetime\n",
    "import os\n",
    "import glob\n",
    "import xarray as xr\n",
    "import scipy as sp\n",
    "from netCDF4 import Dataset\n",
    "from netCDF4 import MFDataset"
   ]
  },
  {
   "cell_type": "code",
   "execution_count": 4,
   "metadata": {},
   "outputs": [],
   "source": [
    "%matplotlib inline\n",
    "#%matplotlib notebook"
   ]
  },
  {
   "cell_type": "code",
   "execution_count": 5,
   "metadata": {},
   "outputs": [],
   "source": [
    "pd.set_option('display.float_format', lambda x: '%.6f' % x)\n",
    "plt.rcParams['figure.figsize'] = [10, 8]"
   ]
  },
  {
   "cell_type": "code",
   "execution_count": 6,
   "metadata": {},
   "outputs": [],
   "source": [
    "# Get list of files\n",
    "filenames=[]\n",
    "path = r\"R:\\Globe\\Lidar_data\\Onshore_calibrations\\sys2\\los_measurements\\*.nc\"\n",
    "sys = path.split('\\\\')[-3]\n",
    "for file in glob.glob(path):\n",
    "    filenames.append(file)"
   ]
  },
  {
   "cell_type": "code",
   "execution_count": null,
   "metadata": {},
   "outputs": [],
   "source": [
    "filenames"
   ]
  },
  {
   "cell_type": "code",
   "execution_count": 8,
   "metadata": {},
   "outputs": [],
   "source": [
    "def export_data(alldata, rg_list, outpath):\n",
    "\n",
    "    # Select only interesting channels\n",
    "    export_df = alldata[['timestamp', 'azimuth', 'elevation', 'cnr', 'radial_wind_speed', 'radial_wind_speed_ci']].to_dataframe()\n",
    "\n",
    "    # Loop through provided list of range gates\n",
    "    for rg in rg_list:\n",
    "        \n",
    "        # Construct file paths\n",
    "        outfile = outpath + '\\\\' + sys + '_' + str(rg) + 'm'+ '.csv'\n",
    "        outfile_1min = outpath + '\\\\' + sys + '_' + str(rg) + 'm' + '_1min' + '.csv'\n",
    "        \n",
    "        # Select data for specific range gate\n",
    "        df = export_df.loc[rg, :]\n",
    "        # Convert string timestamps to datetime64\n",
    "        df.loc[:, 'timestamp'] = pd.to_datetime(df['timestamp'], errors='coerce')\n",
    "        # Drop any rows with corrupted data\n",
    "        df.dropna(how='any', inplace=True)\n",
    "        # Copy original time column\n",
    "        df['time'] = df.index\n",
    "        # Set datetime64 object as timeindex\n",
    "        df.set_index(df['timestamp'], inplace=True)\n",
    "        del df['timestamp']\n",
    "        #print(df.head())\n",
    "        \n",
    "        # Create original file and then append further data without repeating headers\n",
    "        if not os.path.isfile(outfile):\n",
    "            df.to_csv(outfile, header=True, sep=';', decimal='.')\n",
    "        else:\n",
    "            df.to_csv(outfile, mode='a', header=None, sep=';', decimal='.')\n",
    "        \n",
    "        # Average to 1Minute and export lower resolution for reduced filesize\n",
    "        df_1min = df.resample('1Min').mean()\n",
    "        \n",
    "        if not os.path.isfile(outfile_1min):\n",
    "            df_1min.to_csv(outfile_1min, header=True, sep=';', decimal='.')\n",
    "        else:\n",
    "            df_1min.to_csv(outfile_1min, mode='a', header=None, sep=';', decimal='.')"
   ]
  },
  {
   "cell_type": "code",
   "execution_count": null,
   "metadata": {},
   "outputs": [],
   "source": [
    "# Process all data\n",
    "for f in filenames:\n",
    "    #print(f)\n",
    "    \n",
    "    # Get sweep id from metadata\n",
    "    rootgrp = Dataset(f, \"r\", format=\"NETCDF4\")\n",
    "    group = list(rootgrp.groups.keys())[-1]\n",
    "    # Open netcdf file inside specific sweep group\n",
    "    alldata = xr.open_dataset(f, group=group, decode_times=False)\n",
    "    \n",
    "    # Decide which range gates to extract data\n",
    "    rg_list = [1000,1500,2000,3000,5000,7000]\n",
    "    # Make export path\n",
    "    outpath = path.split('los_measurements')[0] + 'export'\n",
    "    # Run data export function\n",
    "    export_data(alldata, rg_list, outpath)"
   ]
  },
  {
   "cell_type": "code",
   "execution_count": null,
   "metadata": {},
   "outputs": [],
   "source": []
  }
 ],
 "metadata": {
  "kernelspec": {
   "display_name": "Python 3",
   "language": "python",
   "name": "python3"
  },
  "language_info": {
   "codemirror_mode": {
    "name": "ipython",
    "version": 3
   },
   "file_extension": ".py",
   "mimetype": "text/x-python",
   "name": "python",
   "nbconvert_exporter": "python",
   "pygments_lexer": "ipython3",
   "version": "3.8.3"
  }
 },
 "nbformat": 4,
 "nbformat_minor": 4
}
