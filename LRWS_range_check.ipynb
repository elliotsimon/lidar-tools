{
 "cells": [
  {
   "cell_type": "code",
   "execution_count": 1,
   "metadata": {},
   "outputs": [
    {
     "data": {
      "text/plain": [
       "'\\nThe purpose of this program is to load in raw measurement data from a DTU WindScanner scanning lidar and generate a \\ntimeline of effective measurement range.\\n'"
      ]
     },
     "execution_count": 1,
     "metadata": {},
     "output_type": "execute_result"
    }
   ],
   "source": [
    "__author__ = 'Elliot Simon'\n",
    "__email__ = 'ellsim@dtu.dk'\n",
    "__date__ = 'July 1, 2020'\n",
    "\n",
    "'''\n",
    "The purpose of this program is to load in raw measurement data from a DTU WindScanner scanning lidar and generate a \n",
    "timeline of effective measurement range.\n",
    "'''"
   ]
  },
  {
   "cell_type": "code",
   "execution_count": 2,
   "metadata": {
    "collapsed": true
   },
   "outputs": [],
   "source": [
    "import pandas as pd\n",
    "import xarray as xr\n",
    "from matplotlib import pyplot as plt\n",
    "import numpy as np\n",
    "import datetime\n",
    "from pathlib import Path\n",
    "import os"
   ]
  },
  {
   "cell_type": "code",
   "execution_count": 3,
   "metadata": {
    "collapsed": true
   },
   "outputs": [],
   "source": [
    "plt.style.use('classic')\n",
    "plt.rcParams['figure.figsize'] = (18, 8)\n",
    "plt.rcParams['figure.dpi'] = 70\n",
    "plt.rcParams['font.size'] = 14\n",
    "plt.rcParams['font.family'] = 'Serif'\n",
    "plt.rcParams['figure.facecolor'] = 'white'\n",
    "plt.rcParams['axes.facecolor'] = 'white'\n",
    "plt.rcParams['axes.grid'] = True\n",
    "plt.rcParams['figure.facecolor'] = 'white'\n",
    "plt.rcParams['agg.path.chunksize'] = 10000\n",
    "plt.rcParams['xtick.major.pad'] = '8'\n",
    "plt.rcParams['ytick.major.pad'] = '8'"
   ]
  },
  {
   "cell_type": "code",
   "execution_count": 4,
   "metadata": {
    "collapsed": true
   },
   "outputs": [],
   "source": [
    "%matplotlib inline"
   ]
  },
  {
   "cell_type": "code",
   "execution_count": 5,
   "metadata": {
    "collapsed": true
   },
   "outputs": [],
   "source": [
    "num_los = 60"
   ]
  },
  {
   "cell_type": "markdown",
   "metadata": {},
   "source": [
    "# Load/Format Data"
   ]
  },
  {
   "cell_type": "code",
   "execution_count": 6,
   "metadata": {
    "collapsed": true
   },
   "outputs": [],
   "source": [
    "src='E:\\\\TotalControl\\\\Scotland\\\\TC_S_WHITTLE_PHASE1\\\\merged\\\\d_3_9'\n",
    "src_path = Path(src)"
   ]
  },
  {
   "cell_type": "code",
   "execution_count": 7,
   "metadata": {
    "collapsed": true
   },
   "outputs": [],
   "source": [
    "wind_files_path = src_path.glob('*_merged.txt')\n",
    "wind_files = list(wind_files_path)\n",
    "wind_filenames = list([x.stem for x in wind_files])"
   ]
  },
  {
   "cell_type": "code",
   "execution_count": 8,
   "metadata": {
    "collapsed": true
   },
   "outputs": [],
   "source": [
    "def read_file(file):\n",
    "    df = pd.read_csv(file, sep=';', header=None, index_col=1)\n",
    "    df.index.rename('los_num', inplace=True)\n",
    "    del df[0]\n",
    "    df.columns = range(0,len(df.columns))\n",
    "    df.rename(columns = {4:'azim'}, inplace=True)\n",
    "    df.rename(columns = {5:'elev'}, inplace=True)\n",
    "    return df"
   ]
  },
  {
   "cell_type": "code",
   "execution_count": 9,
   "metadata": {},
   "outputs": [
    {
     "name": "stdout",
     "output_type": "stream",
     "text": [
      "E:\\TotalControl\\Scotland\\TC_S_WHITTLE_PHASE1\\merged\\d_3_9\\20200402034617_PPI1_merged.txt\n"
     ]
    }
   ],
   "source": [
    "active_file = wind_files[15]\n",
    "out_filename = active_file.stem.split('_merged')[0]\n",
    "print(active_file)"
   ]
  },
  {
   "cell_type": "code",
   "execution_count": 10,
   "metadata": {},
   "outputs": [
    {
     "name": "stdout",
     "output_type": "stream",
     "text": [
      "Wall time: 1min 7s\n"
     ]
    }
   ],
   "source": [
    "%%time\n",
    "df = read_file(active_file)"
   ]
  },
  {
   "cell_type": "code",
   "execution_count": 11,
   "metadata": {},
   "outputs": [
    {
     "data": {
      "text/html": [
       "<div>\n",
       "<style scoped>\n",
       "    .dataframe tbody tr th:only-of-type {\n",
       "        vertical-align: middle;\n",
       "    }\n",
       "\n",
       "    .dataframe tbody tr th {\n",
       "        vertical-align: top;\n",
       "    }\n",
       "\n",
       "    .dataframe thead th {\n",
       "        text-align: right;\n",
       "    }\n",
       "</style>\n",
       "<table border=\"1\" class=\"dataframe\">\n",
       "  <thead>\n",
       "    <tr style=\"text-align: right;\">\n",
       "      <th></th>\n",
       "      <th>0</th>\n",
       "      <th>1</th>\n",
       "      <th>2</th>\n",
       "      <th>3</th>\n",
       "      <th>azim</th>\n",
       "      <th>elev</th>\n",
       "      <th>6</th>\n",
       "      <th>7</th>\n",
       "      <th>8</th>\n",
       "      <th>9</th>\n",
       "      <th>...</th>\n",
       "      <th>380</th>\n",
       "      <th>381</th>\n",
       "      <th>382</th>\n",
       "      <th>383</th>\n",
       "      <th>384</th>\n",
       "      <th>385</th>\n",
       "      <th>386</th>\n",
       "      <th>387</th>\n",
       "      <th>388</th>\n",
       "      <th>389</th>\n",
       "    </tr>\n",
       "    <tr>\n",
       "      <th>los_num</th>\n",
       "      <th></th>\n",
       "      <th></th>\n",
       "      <th></th>\n",
       "      <th></th>\n",
       "      <th></th>\n",
       "      <th></th>\n",
       "      <th></th>\n",
       "      <th></th>\n",
       "      <th></th>\n",
       "      <th></th>\n",
       "      <th></th>\n",
       "      <th></th>\n",
       "      <th></th>\n",
       "      <th></th>\n",
       "      <th></th>\n",
       "      <th></th>\n",
       "      <th></th>\n",
       "      <th></th>\n",
       "      <th></th>\n",
       "      <th></th>\n",
       "      <th></th>\n",
       "    </tr>\n",
       "  </thead>\n",
       "  <tbody>\n",
       "    <tr>\n",
       "      <th>0</th>\n",
       "      <td>0</td>\n",
       "      <td>76</td>\n",
       "      <td>3.668644e+09</td>\n",
       "      <td>3.668644e+09</td>\n",
       "      <td>330.483</td>\n",
       "      <td>-0.0</td>\n",
       "      <td>100</td>\n",
       "      <td>8.428</td>\n",
       "      <td>-28.405</td>\n",
       "      <td>1.022</td>\n",
       "      <td>...</td>\n",
       "      <td>-32.277</td>\n",
       "      <td>0.165</td>\n",
       "      <td>1980</td>\n",
       "      <td>9.520</td>\n",
       "      <td>-29.822</td>\n",
       "      <td>0.982</td>\n",
       "      <td>2000</td>\n",
       "      <td>-5.951</td>\n",
       "      <td>-32.152</td>\n",
       "      <td>0.165</td>\n",
       "    </tr>\n",
       "    <tr>\n",
       "      <th>1</th>\n",
       "      <td>80</td>\n",
       "      <td>101</td>\n",
       "      <td>3.668644e+09</td>\n",
       "      <td>3.668644e+09</td>\n",
       "      <td>331.483</td>\n",
       "      <td>0.0</td>\n",
       "      <td>100</td>\n",
       "      <td>21.949</td>\n",
       "      <td>-32.053</td>\n",
       "      <td>0.165</td>\n",
       "      <td>...</td>\n",
       "      <td>-31.003</td>\n",
       "      <td>0.165</td>\n",
       "      <td>1980</td>\n",
       "      <td>-16.623</td>\n",
       "      <td>-31.660</td>\n",
       "      <td>0.165</td>\n",
       "      <td>2000</td>\n",
       "      <td>-16.135</td>\n",
       "      <td>-30.892</td>\n",
       "      <td>0.165</td>\n",
       "    </tr>\n",
       "    <tr>\n",
       "      <th>2</th>\n",
       "      <td>102</td>\n",
       "      <td>126</td>\n",
       "      <td>3.668644e+09</td>\n",
       "      <td>3.668644e+09</td>\n",
       "      <td>332.483</td>\n",
       "      <td>0.0</td>\n",
       "      <td>100</td>\n",
       "      <td>22.072</td>\n",
       "      <td>-28.730</td>\n",
       "      <td>1.721</td>\n",
       "      <td>...</td>\n",
       "      <td>-28.969</td>\n",
       "      <td>1.995</td>\n",
       "      <td>1980</td>\n",
       "      <td>-11.356</td>\n",
       "      <td>-29.842</td>\n",
       "      <td>0.657</td>\n",
       "      <td>2000</td>\n",
       "      <td>21.780</td>\n",
       "      <td>-28.988</td>\n",
       "      <td>0.439</td>\n",
       "    </tr>\n",
       "    <tr>\n",
       "      <th>3</th>\n",
       "      <td>128</td>\n",
       "      <td>151</td>\n",
       "      <td>3.668644e+09</td>\n",
       "      <td>3.668644e+09</td>\n",
       "      <td>333.483</td>\n",
       "      <td>0.0</td>\n",
       "      <td>100</td>\n",
       "      <td>-4.702</td>\n",
       "      <td>-30.151</td>\n",
       "      <td>0.165</td>\n",
       "      <td>...</td>\n",
       "      <td>-29.929</td>\n",
       "      <td>0.165</td>\n",
       "      <td>1980</td>\n",
       "      <td>11.681</td>\n",
       "      <td>-27.872</td>\n",
       "      <td>1.681</td>\n",
       "      <td>2000</td>\n",
       "      <td>12.572</td>\n",
       "      <td>-29.751</td>\n",
       "      <td>0.165</td>\n",
       "    </tr>\n",
       "    <tr>\n",
       "      <th>4</th>\n",
       "      <td>152</td>\n",
       "      <td>176</td>\n",
       "      <td>3.668644e+09</td>\n",
       "      <td>3.668644e+09</td>\n",
       "      <td>334.483</td>\n",
       "      <td>-0.0</td>\n",
       "      <td>100</td>\n",
       "      <td>-27.487</td>\n",
       "      <td>-29.669</td>\n",
       "      <td>0.165</td>\n",
       "      <td>...</td>\n",
       "      <td>-32.655</td>\n",
       "      <td>0.958</td>\n",
       "      <td>1980</td>\n",
       "      <td>18.555</td>\n",
       "      <td>-30.207</td>\n",
       "      <td>0.176</td>\n",
       "      <td>2000</td>\n",
       "      <td>18.143</td>\n",
       "      <td>-30.145</td>\n",
       "      <td>0.546</td>\n",
       "    </tr>\n",
       "  </tbody>\n",
       "</table>\n",
       "<p>5 rows × 390 columns</p>\n",
       "</div>"
      ],
      "text/plain": [
       "           0    1             2             3     azim  elev    6       7  \\\n",
       "los_num                                                                     \n",
       "0          0   76  3.668644e+09  3.668644e+09  330.483  -0.0  100   8.428   \n",
       "1         80  101  3.668644e+09  3.668644e+09  331.483   0.0  100  21.949   \n",
       "2        102  126  3.668644e+09  3.668644e+09  332.483   0.0  100  22.072   \n",
       "3        128  151  3.668644e+09  3.668644e+09  333.483   0.0  100  -4.702   \n",
       "4        152  176  3.668644e+09  3.668644e+09  334.483  -0.0  100 -27.487   \n",
       "\n",
       "              8      9  ...       380    381   382     383     384    385  \\\n",
       "los_num                 ...                                                 \n",
       "0       -28.405  1.022  ...   -32.277  0.165  1980   9.520 -29.822  0.982   \n",
       "1       -32.053  0.165  ...   -31.003  0.165  1980 -16.623 -31.660  0.165   \n",
       "2       -28.730  1.721  ...   -28.969  1.995  1980 -11.356 -29.842  0.657   \n",
       "3       -30.151  0.165  ...   -29.929  0.165  1980  11.681 -27.872  1.681   \n",
       "4       -29.669  0.165  ...   -32.655  0.958  1980  18.555 -30.207  0.176   \n",
       "\n",
       "          386     387     388    389  \n",
       "los_num                               \n",
       "0        2000  -5.951 -32.152  0.165  \n",
       "1        2000 -16.135 -30.892  0.165  \n",
       "2        2000  21.780 -28.988  0.439  \n",
       "3        2000  12.572 -29.751  0.165  \n",
       "4        2000  18.143 -30.145  0.546  \n",
       "\n",
       "[5 rows x 390 columns]"
      ]
     },
     "execution_count": 11,
     "metadata": {},
     "output_type": "execute_result"
    }
   ],
   "source": [
    "df.head()"
   ]
  },
  {
   "cell_type": "code",
   "execution_count": 12,
   "metadata": {
    "collapsed": true
   },
   "outputs": [],
   "source": [
    "# Convert from LabVIEW time to datetime object (UTC format)\n",
    "def convtime(labviewtime):\n",
    "    unixtime = labviewtime - 2082844800\n",
    "    timestamp = datetime.datetime.utcfromtimestamp(int(unixtime))\n",
    "    return timestamp"
   ]
  },
  {
   "cell_type": "code",
   "execution_count": 13,
   "metadata": {
    "collapsed": true
   },
   "outputs": [],
   "source": [
    "# Pull out a list of the measured range gates\n",
    "range_gates = df.iloc[0,6::4].tolist()"
   ]
  },
  {
   "cell_type": "code",
   "execution_count": 39,
   "metadata": {
    "scrolled": true
   },
   "outputs": [
    {
     "data": {
      "text/plain": [
       "[100.0,\n",
       " 120.0,\n",
       " 140.0,\n",
       " 160.0,\n",
       " 180.0,\n",
       " 200.0,\n",
       " 220.0,\n",
       " 240.0,\n",
       " 260.0,\n",
       " 280.0,\n",
       " 300.0,\n",
       " 320.0,\n",
       " 340.0,\n",
       " 360.0,\n",
       " 380.0,\n",
       " 400.0,\n",
       " 420.0,\n",
       " 440.0,\n",
       " 460.0,\n",
       " 480.0,\n",
       " 500.0,\n",
       " 520.0,\n",
       " 540.0,\n",
       " 560.0,\n",
       " 580.0,\n",
       " 600.0,\n",
       " 620.0,\n",
       " 640.0,\n",
       " 660.0,\n",
       " 680.0,\n",
       " 700.0,\n",
       " 720.0,\n",
       " 740.0,\n",
       " 760.0,\n",
       " 780.0,\n",
       " 800.0,\n",
       " 820.0,\n",
       " 840.0,\n",
       " 860.0,\n",
       " 880.0,\n",
       " 900.0,\n",
       " 920.0,\n",
       " 940.0,\n",
       " 960.0,\n",
       " 980.0,\n",
       " 1000.0,\n",
       " 1020.0,\n",
       " 1040.0,\n",
       " 1060.0,\n",
       " 1080.0,\n",
       " 1100.0,\n",
       " 1120.0,\n",
       " 1140.0,\n",
       " 1160.0,\n",
       " 1180.0,\n",
       " 1200.0,\n",
       " 1220.0,\n",
       " 1240.0,\n",
       " 1260.0,\n",
       " 1280.0,\n",
       " 1300.0,\n",
       " 1320.0,\n",
       " 1340.0,\n",
       " 1360.0,\n",
       " 1380.0,\n",
       " 1400.0,\n",
       " 1420.0,\n",
       " 1440.0,\n",
       " 1460.0,\n",
       " 1480.0,\n",
       " 1500.0,\n",
       " 1520.0,\n",
       " 1540.0,\n",
       " 1560.0,\n",
       " 1580.0,\n",
       " 1600.0,\n",
       " 1620.0,\n",
       " 1640.0,\n",
       " 1660.0,\n",
       " 1680.0,\n",
       " 1700.0,\n",
       " 1720.0,\n",
       " 1740.0,\n",
       " 1760.0,\n",
       " 1780.0,\n",
       " 1800.0,\n",
       " 1820.0,\n",
       " 1840.0,\n",
       " 1860.0,\n",
       " 1880.0,\n",
       " 1900.0,\n",
       " 1920.0,\n",
       " 1940.0,\n",
       " 1960.0,\n",
       " 1980.0,\n",
       " 2000.0]"
      ]
     },
     "execution_count": 39,
     "metadata": {},
     "output_type": "execute_result"
    }
   ],
   "source": [
    "range_gates"
   ]
  },
  {
   "cell_type": "code",
   "execution_count": 15,
   "metadata": {
    "collapsed": true
   },
   "outputs": [],
   "source": [
    "df.dropna(how='any', inplace=True)"
   ]
  },
  {
   "cell_type": "code",
   "execution_count": 16,
   "metadata": {
    "collapsed": true
   },
   "outputs": [],
   "source": [
    "df['dt_stop'] = df[3].apply(lambda x: convtime(x))"
   ]
  },
  {
   "cell_type": "code",
   "execution_count": 17,
   "metadata": {
    "collapsed": true
   },
   "outputs": [],
   "source": [
    "def get_rg_col(rg, rg_list=range_gates):\n",
    "    '''\n",
    "    Returns column position of specified range gate (provided in meters)\n",
    "\n",
    "    Note that this gives the base column position for the 4-set (distance, radial_speed, cnr, dispersion)\n",
    "    So you need to add 1, 2, or 3 to this result for selecting the corresponding measurement\n",
    "    '''\n",
    "    return rg_list.index(rg) * 4 + 6"
   ]
  },
  {
   "cell_type": "markdown",
   "metadata": {},
   "source": [
    "# Data QC"
   ]
  },
  {
   "cell_type": "code",
   "execution_count": 18,
   "metadata": {},
   "outputs": [
    {
     "data": {
      "text/plain": [
       "[<matplotlib.lines.Line2D at 0x9382750278>]"
      ]
     },
     "execution_count": 18,
     "metadata": {},
     "output_type": "execute_result"
    },
    {
     "data": {
      "image/png": "[encoded data removed]",
      "text/plain": [
       "<Figure size 432x288 with 1 Axes>"
      ]
     },
     "metadata": {},
     "output_type": "display_data"
    }
   ],
   "source": [
    "# Check all unique azimuths are within range of expected values\n",
    "plt.plot(sorted(set(df['azim'])))"
   ]
  },
  {
   "cell_type": "code",
   "execution_count": 19,
   "metadata": {},
   "outputs": [
    {
     "data": {
      "image/png": "[encoded data removed]",
      "text/plain": [
       "<Figure size 432x288 with 1 Axes>"
      ]
     },
     "metadata": {},
     "output_type": "display_data"
    }
   ],
   "source": [
    "# Check that there aren't any weird azimuths (each multiple of LOS corresponds to the right azimuth)\n",
    "plt.scatter(df.index % num_los, df['azim'])\n",
    "plt.xlabel('LOS number')\n",
    "plt.ylabel('Azimuth angle (degrees)');"
   ]
  },
  {
   "cell_type": "code",
   "execution_count": 20,
   "metadata": {},
   "outputs": [
    {
     "data": {
      "text/plain": [
       "<matplotlib.collections.PathCollection at 0x93815c6470>"
      ]
     },
     "execution_count": 20,
     "metadata": {},
     "output_type": "execute_result"
    },
    {
     "data": {
      "image/png": "[encoded data removed]",
      "text/plain": [
       "<Figure size 432x288 with 1 Axes>"
      ]
     },
     "metadata": {},
     "output_type": "display_data"
    }
   ],
   "source": [
    "# Check all unique elevations are within range of expected values (for PPI should all be equal)\n",
    "plt.scatter(df.index % num_los, df['elev'])"
   ]
  },
  {
   "cell_type": "code",
   "execution_count": null,
   "metadata": {
    "collapsed": true
   },
   "outputs": [],
   "source": []
  },
  {
   "cell_type": "markdown",
   "metadata": {},
   "source": [
    "# Filtering"
   ]
  },
  {
   "cell_type": "code",
   "execution_count": 21,
   "metadata": {},
   "outputs": [
    {
     "data": {
      "text/plain": [
       "<matplotlib.axes._subplots.AxesSubplot at 0x9381c217b8>"
      ]
     },
     "execution_count": 21,
     "metadata": {},
     "output_type": "execute_result"
    },
    {
     "data": {
      "image/png": "[encoded data removed]",
      "text/plain": [
       "<Figure size 432x288 with 1 Axes>"
      ]
     },
     "metadata": {},
     "output_type": "display_data"
    }
   ],
   "source": [
    "df[get_rg_col(range_gates[0])+1].plot()"
   ]
  },
  {
   "cell_type": "code",
   "execution_count": 22,
   "metadata": {
    "collapsed": true
   },
   "outputs": [],
   "source": [
    "# Loops through list of range gates and applies filters \n",
    "for dist in range_gates:\n",
    "    rg = get_rg_col(dist)\n",
    "    # This filters low signal\n",
    "    mask = df[rg+2] < -26\n",
    "    df.loc[mask, rg+1] = np.nan\n",
    "    \n",
    "    # This filters high signal (object/hard target)\n",
    "    mask = df[rg+2] > 0\n",
    "    df.loc[mask, rg+1] = np.nan"
   ]
  },
  {
   "cell_type": "code",
   "execution_count": 23,
   "metadata": {},
   "outputs": [
    {
     "data": {
      "text/plain": [
       "<matplotlib.axes._subplots.AxesSubplot at 0x93ffd2a518>"
      ]
     },
     "execution_count": 23,
     "metadata": {},
     "output_type": "execute_result"
    },
    {
     "data": {
      "image/png": "[encoded data removed]",
      "text/plain": [
       "<Figure size 432x288 with 1 Axes>"
      ]
     },
     "metadata": {},
     "output_type": "display_data"
    }
   ],
   "source": [
    "df[get_rg_col(range_gates[0])+1].plot()"
   ]
  },
  {
   "cell_type": "markdown",
   "metadata": {},
   "source": [
    "# Calculate range"
   ]
  },
  {
   "cell_type": "code",
   "execution_count": 24,
   "metadata": {
    "collapsed": true
   },
   "outputs": [],
   "source": [
    "df.set_index(['dt_stop'], inplace=True)\n",
    "#df.sort_index(inplace=True)"
   ]
  },
  {
   "cell_type": "code",
   "execution_count": 25,
   "metadata": {
    "collapsed": true
   },
   "outputs": [],
   "source": [
    "df = df.iloc[:,7::4]"
   ]
  },
  {
   "cell_type": "code",
   "execution_count": 26,
   "metadata": {
    "collapsed": true
   },
   "outputs": [],
   "source": [
    "df.columns = range_gates"
   ]
  },
  {
   "cell_type": "code",
   "execution_count": 27,
   "metadata": {},
   "outputs": [
    {
     "data": {
      "text/html": [
       "<div>\n",
       "<style scoped>\n",
       "    .dataframe tbody tr th:only-of-type {\n",
       "        vertical-align: middle;\n",
       "    }\n",
       "\n",
       "    .dataframe tbody tr th {\n",
       "        vertical-align: top;\n",
       "    }\n",
       "\n",
       "    .dataframe thead th {\n",
       "        text-align: right;\n",
       "    }\n",
       "</style>\n",
       "<table border=\"1\" class=\"dataframe\">\n",
       "  <thead>\n",
       "    <tr style=\"text-align: right;\">\n",
       "      <th></th>\n",
       "      <th>100.0</th>\n",
       "      <th>120.0</th>\n",
       "      <th>140.0</th>\n",
       "      <th>160.0</th>\n",
       "      <th>180.0</th>\n",
       "      <th>200.0</th>\n",
       "      <th>220.0</th>\n",
       "      <th>240.0</th>\n",
       "      <th>260.0</th>\n",
       "      <th>280.0</th>\n",
       "      <th>...</th>\n",
       "      <th>1820.0</th>\n",
       "      <th>1840.0</th>\n",
       "      <th>1860.0</th>\n",
       "      <th>1880.0</th>\n",
       "      <th>1900.0</th>\n",
       "      <th>1920.0</th>\n",
       "      <th>1940.0</th>\n",
       "      <th>1960.0</th>\n",
       "      <th>1980.0</th>\n",
       "      <th>2000.0</th>\n",
       "    </tr>\n",
       "    <tr>\n",
       "      <th>dt_stop</th>\n",
       "      <th></th>\n",
       "      <th></th>\n",
       "      <th></th>\n",
       "      <th></th>\n",
       "      <th></th>\n",
       "      <th></th>\n",
       "      <th></th>\n",
       "      <th></th>\n",
       "      <th></th>\n",
       "      <th></th>\n",
       "      <th></th>\n",
       "      <th></th>\n",
       "      <th></th>\n",
       "      <th></th>\n",
       "      <th></th>\n",
       "      <th></th>\n",
       "      <th></th>\n",
       "      <th></th>\n",
       "      <th></th>\n",
       "      <th></th>\n",
       "      <th></th>\n",
       "    </tr>\n",
       "  </thead>\n",
       "  <tbody>\n",
       "    <tr>\n",
       "      <th>2020-04-02 03:46:19</th>\n",
       "      <td>NaN</td>\n",
       "      <td>NaN</td>\n",
       "      <td>NaN</td>\n",
       "      <td>NaN</td>\n",
       "      <td>NaN</td>\n",
       "      <td>NaN</td>\n",
       "      <td>NaN</td>\n",
       "      <td>NaN</td>\n",
       "      <td>NaN</td>\n",
       "      <td>NaN</td>\n",
       "      <td>...</td>\n",
       "      <td>NaN</td>\n",
       "      <td>NaN</td>\n",
       "      <td>NaN</td>\n",
       "      <td>NaN</td>\n",
       "      <td>NaN</td>\n",
       "      <td>NaN</td>\n",
       "      <td>NaN</td>\n",
       "      <td>NaN</td>\n",
       "      <td>NaN</td>\n",
       "      <td>NaN</td>\n",
       "    </tr>\n",
       "    <tr>\n",
       "      <th>2020-04-02 03:46:19</th>\n",
       "      <td>NaN</td>\n",
       "      <td>NaN</td>\n",
       "      <td>NaN</td>\n",
       "      <td>NaN</td>\n",
       "      <td>NaN</td>\n",
       "      <td>NaN</td>\n",
       "      <td>NaN</td>\n",
       "      <td>NaN</td>\n",
       "      <td>NaN</td>\n",
       "      <td>NaN</td>\n",
       "      <td>...</td>\n",
       "      <td>NaN</td>\n",
       "      <td>NaN</td>\n",
       "      <td>NaN</td>\n",
       "      <td>NaN</td>\n",
       "      <td>NaN</td>\n",
       "      <td>NaN</td>\n",
       "      <td>NaN</td>\n",
       "      <td>NaN</td>\n",
       "      <td>NaN</td>\n",
       "      <td>NaN</td>\n",
       "    </tr>\n",
       "    <tr>\n",
       "      <th>2020-04-02 03:46:20</th>\n",
       "      <td>NaN</td>\n",
       "      <td>NaN</td>\n",
       "      <td>NaN</td>\n",
       "      <td>NaN</td>\n",
       "      <td>NaN</td>\n",
       "      <td>NaN</td>\n",
       "      <td>NaN</td>\n",
       "      <td>NaN</td>\n",
       "      <td>NaN</td>\n",
       "      <td>NaN</td>\n",
       "      <td>...</td>\n",
       "      <td>NaN</td>\n",
       "      <td>NaN</td>\n",
       "      <td>NaN</td>\n",
       "      <td>NaN</td>\n",
       "      <td>NaN</td>\n",
       "      <td>NaN</td>\n",
       "      <td>NaN</td>\n",
       "      <td>NaN</td>\n",
       "      <td>NaN</td>\n",
       "      <td>NaN</td>\n",
       "    </tr>\n",
       "    <tr>\n",
       "      <th>2020-04-02 03:46:20</th>\n",
       "      <td>NaN</td>\n",
       "      <td>NaN</td>\n",
       "      <td>NaN</td>\n",
       "      <td>NaN</td>\n",
       "      <td>NaN</td>\n",
       "      <td>NaN</td>\n",
       "      <td>NaN</td>\n",
       "      <td>NaN</td>\n",
       "      <td>NaN</td>\n",
       "      <td>NaN</td>\n",
       "      <td>...</td>\n",
       "      <td>NaN</td>\n",
       "      <td>NaN</td>\n",
       "      <td>NaN</td>\n",
       "      <td>NaN</td>\n",
       "      <td>NaN</td>\n",
       "      <td>NaN</td>\n",
       "      <td>NaN</td>\n",
       "      <td>NaN</td>\n",
       "      <td>NaN</td>\n",
       "      <td>NaN</td>\n",
       "    </tr>\n",
       "    <tr>\n",
       "      <th>2020-04-02 03:46:21</th>\n",
       "      <td>NaN</td>\n",
       "      <td>NaN</td>\n",
       "      <td>NaN</td>\n",
       "      <td>NaN</td>\n",
       "      <td>NaN</td>\n",
       "      <td>NaN</td>\n",
       "      <td>NaN</td>\n",
       "      <td>NaN</td>\n",
       "      <td>NaN</td>\n",
       "      <td>NaN</td>\n",
       "      <td>...</td>\n",
       "      <td>NaN</td>\n",
       "      <td>NaN</td>\n",
       "      <td>NaN</td>\n",
       "      <td>NaN</td>\n",
       "      <td>NaN</td>\n",
       "      <td>NaN</td>\n",
       "      <td>NaN</td>\n",
       "      <td>NaN</td>\n",
       "      <td>NaN</td>\n",
       "      <td>NaN</td>\n",
       "    </tr>\n",
       "  </tbody>\n",
       "</table>\n",
       "<p>5 rows × 96 columns</p>\n",
       "</div>"
      ],
      "text/plain": [
       "                     100.0   120.0   140.0   160.0   180.0   200.0   220.0   \\\n",
       "dt_stop                                                                       \n",
       "2020-04-02 03:46:19     NaN     NaN     NaN     NaN     NaN     NaN     NaN   \n",
       "2020-04-02 03:46:19     NaN     NaN     NaN     NaN     NaN     NaN     NaN   \n",
       "2020-04-02 03:46:20     NaN     NaN     NaN     NaN     NaN     NaN     NaN   \n",
       "2020-04-02 03:46:20     NaN     NaN     NaN     NaN     NaN     NaN     NaN   \n",
       "2020-04-02 03:46:21     NaN     NaN     NaN     NaN     NaN     NaN     NaN   \n",
       "\n",
       "                     240.0   260.0   280.0    ...    1820.0  1840.0  1860.0  \\\n",
       "dt_stop                                       ...                             \n",
       "2020-04-02 03:46:19     NaN     NaN     NaN   ...       NaN     NaN     NaN   \n",
       "2020-04-02 03:46:19     NaN     NaN     NaN   ...       NaN     NaN     NaN   \n",
       "2020-04-02 03:46:20     NaN     NaN     NaN   ...       NaN     NaN     NaN   \n",
       "2020-04-02 03:46:20     NaN     NaN     NaN   ...       NaN     NaN     NaN   \n",
       "2020-04-02 03:46:21     NaN     NaN     NaN   ...       NaN     NaN     NaN   \n",
       "\n",
       "                     1880.0  1900.0  1920.0  1940.0  1960.0  1980.0  2000.0  \n",
       "dt_stop                                                                      \n",
       "2020-04-02 03:46:19     NaN     NaN     NaN     NaN     NaN     NaN     NaN  \n",
       "2020-04-02 03:46:19     NaN     NaN     NaN     NaN     NaN     NaN     NaN  \n",
       "2020-04-02 03:46:20     NaN     NaN     NaN     NaN     NaN     NaN     NaN  \n",
       "2020-04-02 03:46:20     NaN     NaN     NaN     NaN     NaN     NaN     NaN  \n",
       "2020-04-02 03:46:21     NaN     NaN     NaN     NaN     NaN     NaN     NaN  \n",
       "\n",
       "[5 rows x 96 columns]"
      ]
     },
     "execution_count": 27,
     "metadata": {},
     "output_type": "execute_result"
    }
   ],
   "source": [
    "df.head()"
   ]
  },
  {
   "cell_type": "code",
   "execution_count": 28,
   "metadata": {
    "collapsed": true
   },
   "outputs": [],
   "source": [
    "valid = ~np.isnan(df.resample('1Min').mean())"
   ]
  },
  {
   "cell_type": "code",
   "execution_count": 29,
   "metadata": {},
   "outputs": [
    {
     "data": {
      "text/plain": [
       "(2566, 96)"
      ]
     },
     "execution_count": 29,
     "metadata": {},
     "output_type": "execute_result"
    }
   ],
   "source": [
    "valid.shape"
   ]
  },
  {
   "cell_type": "code",
   "execution_count": 30,
   "metadata": {
    "collapsed": true
   },
   "outputs": [],
   "source": [
    "num_valid = valid.sum(axis=1)"
   ]
  },
  {
   "cell_type": "code",
   "execution_count": 31,
   "metadata": {
    "collapsed": true
   },
   "outputs": [],
   "source": [
    "pct_valid = 100*(valid.sum(axis=1) / len(range_gates))"
   ]
  },
  {
   "cell_type": "code",
   "execution_count": 32,
   "metadata": {},
   "outputs": [
    {
     "data": {
      "image/png": "[encoded data removed]",
      "text/plain": [
       "<Figure size 432x288 with 1 Axes>"
      ]
     },
     "metadata": {},
     "output_type": "display_data"
    }
   ],
   "source": [
    "pct_valid.plot(linewidth=2)\n",
    "plt.ylim(0,105)\n",
    "plt.ylabel('Measurement data availability (%)')\n",
    "plt.xlabel('Time')\n",
    "plt.gcf().autofmt_xdate()\n",
    "plt.savefig(out_filename + '_pct_valid.png', bbox_inches='tight')"
   ]
  },
  {
   "cell_type": "code",
   "execution_count": 33,
   "metadata": {
    "collapsed": true
   },
   "outputs": [],
   "source": [
    "pct_valid.to_csv(out_filename + '_pct_valid.csv')"
   ]
  },
  {
   "cell_type": "code",
   "execution_count": null,
   "metadata": {
    "collapsed": true
   },
   "outputs": [],
   "source": []
  }
 ],
 "metadata": {
  "kernelspec": {
   "display_name": "Python 3",
   "language": "python",
   "name": "python3"
  },
  "language_info": {
   "codemirror_mode": {
    "name": "ipython",
    "version": 3
   },
   "file_extension": ".py",
   "mimetype": "text/x-python",
   "name": "python",
   "nbconvert_exporter": "python",
   "pygments_lexer": "ipython3",
   "version": "3.6.1"
  },
  "varInspector": {
   "cols": {
    "lenName": 16,
    "lenType": 16,
    "lenVar": 40
   },
   "kernels_config": {
    "python": {
     "delete_cmd_postfix": "",
     "delete_cmd_prefix": "del ",
     "library": "var_list.py",
     "varRefreshCmd": "print(var_dic_list())"
    },
    "r": {
     "delete_cmd_postfix": ") ",
     "delete_cmd_prefix": "rm(",
     "library": "var_list.r",
     "varRefreshCmd": "cat(var_dic_list()) "
    }
   },
   "types_to_exclude": [
    "module",
    "function",
    "builtin_function_or_method",
    "instance",
    "_Feature"
   ],
   "window_display": false
  }
 },
 "nbformat": 4,
 "nbformat_minor": 2
}
